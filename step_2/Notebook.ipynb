{
 "cells": [
  {
   "cell_type": "markdown",
   "id": "49d23663",
   "metadata": {},
   "source": [
    "## Part 1 - Extract information from the Digital ID"
   ]
  },
  {
   "cell_type": "code",
   "execution_count": 1,
   "id": "4b0be707-642d-4c54-a197-ee0315517431",
   "metadata": {},
   "outputs": [],
   "source": [
    "from azure.core.credentials import AzureKeyCredential\n",
    "from azure.ai.formrecognizer import FormRecognizerClient\n",
    "import numpy as np\n",
    "import pandas as pd\n",
    "import os\n",
    "from dotenv import load_dotenv"
   ]
  },
  {
   "cell_type": "code",
   "execution_count": 2,
   "id": "a0ffa31f",
   "metadata": {},
   "outputs": [
    {
     "data": {
      "text/plain": [
       "True"
      ]
     },
     "execution_count": 2,
     "metadata": {},
     "output_type": "execute_result"
    }
   ],
   "source": [
    "load_dotenv()"
   ]
  },
  {
   "cell_type": "code",
   "execution_count": 3,
   "id": "77a0033f-57f1-4bb6-be7b-c88e816f5239",
   "metadata": {},
   "outputs": [],
   "source": [
    "AZURE_FORM_RECOGNIZER_ENDPOINT = os.getenv('AZURE_FORM_RECOGNIZER_ENDPOINT')\n",
    "AZURE_FORM_RECOGNIZER_KEY = os.getenv('AZURE_FORM_RECOGNIZER_KEY')"
   ]
  },
  {
   "cell_type": "code",
   "execution_count": 4,
   "id": "c9f8c372-b50b-45e6-b188-af2a94d32671",
   "metadata": {},
   "outputs": [],
   "source": [
    "form_recognizer_client = FormRecognizerClient(endpoint=AZURE_FORM_RECOGNIZER_ENDPOINT, credential=AzureKeyCredential(AZURE_FORM_RECOGNIZER_KEY))"
   ]
  },
  {
   "cell_type": "code",
   "execution_count": 5,
   "id": "30231bd6-187c-4cf1-bef2-f67327621716",
   "metadata": {},
   "outputs": [],
   "source": [
    "digital_id_path = '../material_preparation_step/Digital IDs/Digital_ID_Cristopher_Coronado.png'\n",
    "with open(digital_id_path, \"rb\") as f:\n",
    "    poller = form_recognizer_client.begin_recognize_identity_documents(identity_document=f)\n",
    "\n",
    "id_documents = poller.result()"
   ]
  },
  {
   "cell_type": "code",
   "execution_count": 6,
   "id": "696f1fe1-dbe6-46f6-b026-edefe4d5d1de",
   "metadata": {},
   "outputs": [
    {
     "data": {
      "text/plain": [
       "azure.ai.formrecognizer._models.RecognizedForm"
      ]
     },
     "execution_count": 6,
     "metadata": {},
     "output_type": "execute_result"
    }
   ],
   "source": [
    "type(id_documents[0])"
   ]
  },
  {
   "cell_type": "code",
   "execution_count": 7,
   "id": "676c0040-a974-426a-95ef-d82a0e8d3ae0",
   "metadata": {},
   "outputs": [],
   "source": [
    "def get_digital_id_details(digital_id):\n",
    "    array: list = []\n",
    "\n",
    "    fields_list = [\n",
    "        {\"field\": \"FirstName\", \"name\": \"First Name\"},\n",
    "        {\"field\": \"LastName\", \"name\": \"Last Name\"},\n",
    "        {\"field\": \"DocumentNumber\", \"name\": \"Document Number\"},\n",
    "        {\"field\": \"DateOfBirth\", \"name\": \"Date of Birth\"},\n",
    "        {\"field\": \"DateOfExpiration\", \"name\": \"Date of Expiration\"},\n",
    "        {\"field\": \"Sex\", \"name\": \"Sex\"},\n",
    "        {\"field\": \"CountryRegion\", \"name\": \"Country/Region\"},\n",
    "        {\"field\": \"Region\", \"name\": \"Region\"}\n",
    "    ]\n",
    "\n",
    "    for x in fields_list:\n",
    "        element = digital_id.fields.get(x[\"field\"])\n",
    "        if element:\n",
    "            array.append([x[\"name\"], element.value, element.confidence * 100])\n",
    "\n",
    "    np_array = np.array(array)\n",
    "    df = pd.DataFrame(np_array, columns = ['Field', 'Value', '% Confidence'])\n",
    "    display(df)"
   ]
  },
  {
   "cell_type": "code",
   "execution_count": 8,
   "id": "ed92e910-d2aa-4e75-8833-76e5c39ea861",
   "metadata": {},
   "outputs": [
    {
     "data": {
      "text/html": [
       "<div>\n",
       "<style scoped>\n",
       "    .dataframe tbody tr th:only-of-type {\n",
       "        vertical-align: middle;\n",
       "    }\n",
       "\n",
       "    .dataframe tbody tr th {\n",
       "        vertical-align: top;\n",
       "    }\n",
       "\n",
       "    .dataframe thead th {\n",
       "        text-align: right;\n",
       "    }\n",
       "</style>\n",
       "<table border=\"1\" class=\"dataframe\">\n",
       "  <thead>\n",
       "    <tr style=\"text-align: right;\">\n",
       "      <th></th>\n",
       "      <th>Field</th>\n",
       "      <th>Value</th>\n",
       "      <th>% Confidence</th>\n",
       "    </tr>\n",
       "  </thead>\n",
       "  <tbody>\n",
       "    <tr>\n",
       "      <th>0</th>\n",
       "      <td>First Name</td>\n",
       "      <td>Cristopher</td>\n",
       "      <td>31.6</td>\n",
       "    </tr>\n",
       "    <tr>\n",
       "      <th>1</th>\n",
       "      <td>Last Name</td>\n",
       "      <td>Coronado</td>\n",
       "      <td>56.5</td>\n",
       "    </tr>\n",
       "    <tr>\n",
       "      <th>2</th>\n",
       "      <td>Document Number</td>\n",
       "      <td>D1549301</td>\n",
       "      <td>99.5</td>\n",
       "    </tr>\n",
       "    <tr>\n",
       "      <th>3</th>\n",
       "      <td>Date of Birth</td>\n",
       "      <td>1993-10-08</td>\n",
       "      <td>99.5</td>\n",
       "    </tr>\n",
       "    <tr>\n",
       "      <th>4</th>\n",
       "      <td>Date of Expiration</td>\n",
       "      <td>2024-06-09</td>\n",
       "      <td>99.5</td>\n",
       "    </tr>\n",
       "    <tr>\n",
       "      <th>5</th>\n",
       "      <td>Sex</td>\n",
       "      <td>M</td>\n",
       "      <td>98.6</td>\n",
       "    </tr>\n",
       "    <tr>\n",
       "      <th>6</th>\n",
       "      <td>Country/Region</td>\n",
       "      <td>USA</td>\n",
       "      <td>99.0</td>\n",
       "    </tr>\n",
       "    <tr>\n",
       "      <th>7</th>\n",
       "      <td>Region</td>\n",
       "      <td>California</td>\n",
       "      <td>99.0</td>\n",
       "    </tr>\n",
       "  </tbody>\n",
       "</table>\n",
       "</div>"
      ],
      "text/plain": [
       "                Field       Value % Confidence\n",
       "0          First Name  Cristopher         31.6\n",
       "1           Last Name    Coronado         56.5\n",
       "2     Document Number    D1549301         99.5\n",
       "3       Date of Birth  1993-10-08         99.5\n",
       "4  Date of Expiration  2024-06-09         99.5\n",
       "5                 Sex           M         98.6\n",
       "6      Country/Region         USA         99.0\n",
       "7              Region  California         99.0"
      ]
     },
     "metadata": {},
     "output_type": "display_data"
    }
   ],
   "source": [
    "get_digital_id_details(id_documents[0])"
   ]
  },
  {
   "cell_type": "markdown",
   "id": "126f52e3",
   "metadata": {},
   "source": [
    "## Part 2 - Train the custom boarding pass recognition model"
   ]
  },
  {
   "cell_type": "code",
   "execution_count": 9,
   "id": "739ed744-04bd-4826-8d51-571f5e411d8b",
   "metadata": {},
   "outputs": [],
   "source": [
    "from azure.ai.formrecognizer import FormTrainingClient"
   ]
  },
  {
   "cell_type": "code",
   "execution_count": 10,
   "id": "6b05a2b6-5284-4f15-8fb2-751dcbeea0d7",
   "metadata": {},
   "outputs": [],
   "source": [
    "form_training_client = FormTrainingClient(endpoint=AZURE_FORM_RECOGNIZER_ENDPOINT, credential=AzureKeyCredential(AZURE_FORM_RECOGNIZER_KEY))"
   ]
  },
  {
   "cell_type": "code",
   "execution_count": 11,
   "id": "b15293a7-3537-490b-9341-8b1d4ab9dea1",
   "metadata": {},
   "outputs": [],
   "source": [
    "saved_model_list = form_training_client.list_custom_models()"
   ]
  },
  {
   "cell_type": "code",
   "execution_count": 12,
   "id": "b591d110-e8d2-4b94-afb6-deee8e856eb0",
   "metadata": {},
   "outputs": [],
   "source": [
    "trainingDataUrl = os.getenv('PROJECT1_BOARDING_PASSES_DATA_URL')"
   ]
  },
  {
   "cell_type": "code",
   "execution_count": 27,
   "id": "1958b1d4-704a-45d2-87ca-621baeca9153",
   "metadata": {},
   "outputs": [],
   "source": [
    "training_process = form_training_client.begin_training(trainingDataUrl, use_training_labels=True)\n",
    "custom_model = training_process.result()"
   ]
  },
  {
   "cell_type": "code",
   "execution_count": 28,
   "id": "ae70b92f-5e64-4ca4-88b4-607dbb9517d7",
   "metadata": {},
   "outputs": [
    {
     "data": {
      "text/plain": [
       "CustomFormModel(model_id=975601b5-810e-4d7d-83d9-f4daf5db419e, status=ready, training_started_on=2022-05-17 02:54:45+00:00, training_completed_on=2022-05-17 02:54:46+00:00, submodels=[CustomFormSubmodel(accuracy=0.982, model_id=975601b5-810e-4d7d-83d9-f4daf5db419e, fields={'Baggage': CustomFormModelField(label=None, name=Baggage, accuracy=0.995), 'Boarding Time': CustomFormModelField(label=None, name=Boarding Time, accuracy=0.995), 'Carrier': CustomFormModelField(label=None, name=Carrier, accuracy=0.995), 'Class': CustomFormModelField(label=None, name=Class, accuracy=0.995), 'Date': CustomFormModelField(label=None, name=Date, accuracy=0.995), 'Flight No.': CustomFormModelField(label=None, name=Flight No., accuracy=0.995), 'From': CustomFormModelField(label=None, name=From, accuracy=0.8), 'Gate': CustomFormModelField(label=None, name=Gate, accuracy=0.995), 'Passenger Name': CustomFormModelField(label=None, name=Passenger Name, accuracy=0.995), 'Seat': CustomFormModelField(label=None, name=Seat, accuracy=0.995)"
      ]
     },
     "execution_count": 28,
     "metadata": {},
     "output_type": "execute_result"
    }
   ],
   "source": [
    "custom_model"
   ]
  },
  {
   "cell_type": "code",
   "execution_count": 31,
   "id": "f7f47a7b-d077-4c16-be09-1090812b4d0f",
   "metadata": {},
   "outputs": [
    {
     "data": {
      "text/plain": [
       "[TrainingDocumentInfo(name=boarding pass 1.pdf, status=succeeded, page_count=1, errors=[], model_id=None),\n",
       " TrainingDocumentInfo(name=boarding pass 10.pdf, status=succeeded, page_count=1, errors=[], model_id=None),\n",
       " TrainingDocumentInfo(name=boarding pass 2.pdf, status=succeeded, page_count=1, errors=[], model_id=None),\n",
       " TrainingDocumentInfo(name=boarding pass 3.pdf, status=succeeded, page_count=1, errors=[], model_id=None),\n",
       " TrainingDocumentInfo(name=boarding pass 4.pdf, status=succeeded, page_count=1, errors=[], model_id=None)]"
      ]
     },
     "execution_count": 31,
     "metadata": {},
     "output_type": "execute_result"
    }
   ],
   "source": [
    "custom_model.training_documents"
   ]
  },
  {
   "cell_type": "code",
   "execution_count": 32,
   "id": "147d0538-4f1d-4578-9dcd-7ac5795e915b",
   "metadata": {},
   "outputs": [
    {
     "name": "stdout",
     "output_type": "stream",
     "text": [
      "Document name: boarding pass 1.pdf\n",
      "Document status: succeeded\n",
      "Document page count: 1\n",
      "Document errors: []\n",
      "Document name: boarding pass 10.pdf\n",
      "Document status: succeeded\n",
      "Document page count: 1\n",
      "Document errors: []\n",
      "Document name: boarding pass 2.pdf\n",
      "Document status: succeeded\n",
      "Document page count: 1\n",
      "Document errors: []\n",
      "Document name: boarding pass 3.pdf\n",
      "Document status: succeeded\n",
      "Document page count: 1\n",
      "Document errors: []\n",
      "Document name: boarding pass 4.pdf\n",
      "Document status: succeeded\n",
      "Document page count: 1\n",
      "Document errors: []\n"
     ]
    }
   ],
   "source": [
    "for doc in custom_model.training_documents:\n",
    "    print(\"Document name: {}\".format(doc.name))\n",
    "    print(\"Document status: {}\".format(doc.status))\n",
    "    print(\"Document page count: {}\".format(doc.page_count))\n",
    "    print(\"Document errors: {}\".format(doc.errors))"
   ]
  },
  {
   "cell_type": "code",
   "execution_count": 33,
   "id": "2a5b62d0-c2dd-4d9c-93ce-16f10f3ecf53",
   "metadata": {},
   "outputs": [
    {
     "name": "stdout",
     "output_type": "stream",
     "text": [
      "Model ID: 975601b5-810e-4d7d-83d9-f4daf5db419e\n",
      "Status: ready\n",
      "Training started on: 2022-05-17 02:54:45+00:00\n",
      "Training completed on: 2022-05-17 02:54:46+00:00\n"
     ]
    }
   ],
   "source": [
    "custom_model_info = form_training_client.get_custom_model(model_id=custom_model.model_id)\n",
    "print(\"Model ID: {}\".format(custom_model_info.model_id))\n",
    "print(\"Status: {}\".format(custom_model_info.status))\n",
    "print(\"Training started on: {}\".format(custom_model_info.training_started_on))\n",
    "print(\"Training completed on: {}\".format(custom_model_info.training_completed_on))"
   ]
  },
  {
   "cell_type": "code",
   "execution_count": 34,
   "id": "2407c920-3908-487b-9db1-428ee65feb76",
   "metadata": {},
   "outputs": [
    {
     "name": "stdout",
     "output_type": "stream",
     "text": [
      "The submodel with form type 'custom:975601b5-810e-4d7d-83d9-f4daf5db419e' has recognized the following fields: Baggage, Boarding Time, Carrier, Class, Date, Flight No., From, Gate, Passenger Name, Seat, To\n"
     ]
    }
   ],
   "source": [
    "for submodel in custom_model.submodels:\n",
    "    print(\n",
    "        \"The submodel with form type '{}' has recognized the following fields: {}\".format(\n",
    "            submodel.form_type,\n",
    "            \", \".join(\n",
    "                [\n",
    "                    field.label if field.label else name\n",
    "                    for name, field in submodel.fields.items()\n",
    "                ]\n",
    "            ),\n",
    "        )\n",
    "    )"
   ]
  },
  {
   "cell_type": "code",
   "execution_count": 35,
   "id": "d239f9b0-399b-4fe6-a1b0-1e31344eff96",
   "metadata": {},
   "outputs": [],
   "source": [
    "form_recognizer_client = FormRecognizerClient(endpoint=AZURE_FORM_RECOGNIZER_ENDPOINT, credential=AzureKeyCredential(AZURE_FORM_RECOGNIZER_KEY))"
   ]
  },
  {
   "cell_type": "code",
   "execution_count": 46,
   "id": "c4136589-652f-4d7a-8a2f-a7bf4b17ec85",
   "metadata": {},
   "outputs": [
    {
     "name": "stdout",
     "output_type": "stream",
     "text": [
      "model_id from custom_model: 975601b5-810e-4d7d-83d9-f4daf5db419e\n",
      "model_id from custom_model_info: 975601b5-810e-4d7d-83d9-f4daf5db419e\n"
     ]
    }
   ],
   "source": [
    "print(\"model_id from custom_model: \"+custom_model.model_id)\n",
    "print(\"model_id from custom_model_info: \"+custom_model_info.model_id)"
   ]
  },
  {
   "cell_type": "markdown",
   "id": "c8d05c11",
   "metadata": {},
   "source": [
    "## Part 3 - Extract information from boarding pass"
   ]
  },
  {
   "cell_type": "code",
   "execution_count": 38,
   "id": "bf539136-d7ad-47f8-8898-4f4d75863ff3",
   "metadata": {},
   "outputs": [],
   "source": [
    "boarding_pass_path = '../material_preparation_step/Boarding passes/Boarding_Pass_Cristopher_Coronado.pdf'\n",
    "with open(boarding_pass_path, \"rb\") as f:\n",
    "    custom_test_action = form_recognizer_client.begin_recognize_custom_forms(model_id=custom_model_info.model_id, form=f)"
   ]
  },
  {
   "cell_type": "code",
   "execution_count": 44,
   "id": "dd1d00a2-c76f-48ea-b202-9a7dbe6b627d",
   "metadata": {},
   "outputs": [
    {
     "name": "stdout",
     "output_type": "stream",
     "text": [
      "Form type: custom:975601b5-810e-4d7d-83d9-f4daf5db419e\n"
     ]
    },
    {
     "data": {
      "text/html": [
       "<div>\n",
       "<style scoped>\n",
       "    .dataframe tbody tr th:only-of-type {\n",
       "        vertical-align: middle;\n",
       "    }\n",
       "\n",
       "    .dataframe tbody tr th {\n",
       "        vertical-align: top;\n",
       "    }\n",
       "\n",
       "    .dataframe thead th {\n",
       "        text-align: right;\n",
       "    }\n",
       "</style>\n",
       "<table border=\"1\" class=\"dataframe\">\n",
       "  <thead>\n",
       "    <tr style=\"text-align: right;\">\n",
       "      <th></th>\n",
       "      <th>Field</th>\n",
       "      <th>Label</th>\n",
       "      <th>Value</th>\n",
       "      <th>% Confidence</th>\n",
       "    </tr>\n",
       "  </thead>\n",
       "  <tbody>\n",
       "    <tr>\n",
       "      <th>0</th>\n",
       "      <td>Passenger Name</td>\n",
       "      <td>Passenger Name</td>\n",
       "      <td>Cristopher Coronado</td>\n",
       "      <td>99.0</td>\n",
       "    </tr>\n",
       "    <tr>\n",
       "      <th>1</th>\n",
       "      <td>From</td>\n",
       "      <td>From</td>\n",
       "      <td>Miami</td>\n",
       "      <td>77.1</td>\n",
       "    </tr>\n",
       "    <tr>\n",
       "      <th>2</th>\n",
       "      <td>Seat</td>\n",
       "      <td>Seat</td>\n",
       "      <td>15A</td>\n",
       "      <td>11.9</td>\n",
       "    </tr>\n",
       "    <tr>\n",
       "      <th>3</th>\n",
       "      <td>Class</td>\n",
       "      <td>Class</td>\n",
       "      <td>E</td>\n",
       "      <td>99.0</td>\n",
       "    </tr>\n",
       "    <tr>\n",
       "      <th>4</th>\n",
       "      <td>To</td>\n",
       "      <td>To</td>\n",
       "      <td>New York</td>\n",
       "      <td>99.0</td>\n",
       "    </tr>\n",
       "    <tr>\n",
       "      <th>5</th>\n",
       "      <td>Baggage</td>\n",
       "      <td>Baggage</td>\n",
       "      <td>0</td>\n",
       "      <td>99.0</td>\n",
       "    </tr>\n",
       "    <tr>\n",
       "      <th>6</th>\n",
       "      <td>Flight No.</td>\n",
       "      <td>Flight No.</td>\n",
       "      <td>128</td>\n",
       "      <td>99.0</td>\n",
       "    </tr>\n",
       "    <tr>\n",
       "      <th>7</th>\n",
       "      <td>Gate</td>\n",
       "      <td>Gate</td>\n",
       "      <td>G2</td>\n",
       "      <td>99.0</td>\n",
       "    </tr>\n",
       "    <tr>\n",
       "      <th>8</th>\n",
       "      <td>Date</td>\n",
       "      <td>Date</td>\n",
       "      <td>May 30, 2022</td>\n",
       "      <td>99.0</td>\n",
       "    </tr>\n",
       "    <tr>\n",
       "      <th>9</th>\n",
       "      <td>Carrier</td>\n",
       "      <td>Carrier</td>\n",
       "      <td>UA</td>\n",
       "      <td>99.0</td>\n",
       "    </tr>\n",
       "    <tr>\n",
       "      <th>10</th>\n",
       "      <td>Boarding Time</td>\n",
       "      <td>Boarding Time</td>\n",
       "      <td>11:15</td>\n",
       "      <td>99.0</td>\n",
       "    </tr>\n",
       "  </tbody>\n",
       "</table>\n",
       "</div>"
      ],
      "text/plain": [
       "             Field           Label                Value % Confidence\n",
       "0   Passenger Name  Passenger Name  Cristopher Coronado         99.0\n",
       "1             From            From                Miami         77.1\n",
       "2             Seat            Seat                  15A         11.9\n",
       "3            Class           Class                    E         99.0\n",
       "4               To              To             New York         99.0\n",
       "5          Baggage         Baggage                    0         99.0\n",
       "6       Flight No.      Flight No.                  128         99.0\n",
       "7             Gate            Gate                   G2         99.0\n",
       "8             Date            Date         May 30, 2022         99.0\n",
       "9          Carrier         Carrier                   UA         99.0\n",
       "10   Boarding Time   Boarding Time                11:15         99.0"
      ]
     },
     "execution_count": 44,
     "metadata": {},
     "output_type": "execute_result"
    }
   ],
   "source": [
    "id_documents = custom_test_action.result()\n",
    "array: list = []\n",
    "\n",
    "for recognized_content in id_documents:\n",
    "    print(\"Form type: {}\".format(recognized_content.form_type))\n",
    "    for name, field in recognized_content.fields.items():\n",
    "        array.append([name, field.label_data.text if field.label_data else name, field.value, round(field.confidence * 100, 2)])\n",
    "\n",
    "np_array = np.array(array)\n",
    "df = pd.DataFrame(np_array, columns = ['Field', 'Label', 'Value', '% Confidence'])\n",
    "df"
   ]
  }
 ],
 "metadata": {
  "interpreter": {
   "hash": "8676793c1d0c538790edb09a1ae9b71cfadda106b96c92b093019dd33667eb6c"
  },
  "kernelspec": {
   "display_name": "Python 3.7.13 ('AI-Azure')",
   "language": "python",
   "name": "python3"
  },
  "language_info": {
   "codemirror_mode": {
    "name": "ipython",
    "version": 3
   },
   "file_extension": ".py",
   "mimetype": "text/x-python",
   "name": "python",
   "nbconvert_exporter": "python",
   "pygments_lexer": "ipython3",
   "version": "3.7.13"
  }
 },
 "nbformat": 4,
 "nbformat_minor": 5
}
